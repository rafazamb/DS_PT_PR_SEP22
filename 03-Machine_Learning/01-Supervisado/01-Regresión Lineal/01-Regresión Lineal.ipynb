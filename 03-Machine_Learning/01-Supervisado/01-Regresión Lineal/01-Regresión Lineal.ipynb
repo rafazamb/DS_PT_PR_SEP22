{
 "cells": [
  {
   "cell_type": "markdown",
   "id": "occupational-future",
   "metadata": {},
   "source": [
    "# Regresión Lineal"
   ]
  },
  {
   "cell_type": "markdown",
   "id": "19dcec50",
   "metadata": {},
   "source": [
    "En el módulo de matemáticas, ya vimos la regresión lineal y cómo obtener los coeficientes de manera directa a través del cálculo matricial. Vamos a recordar el ejemplo:"
   ]
  },
  {
   "cell_type": "markdown",
   "id": "scientific-front",
   "metadata": {},
   "source": [
    "Se ha hecho una encuesta a 20 personas, preguntándoles por sus ingresos anuales en miles de euros y su nivel de felicidad en una escala del 0 al 10.   \n",
    "Los resultados obtenidos se guardan en las listas `x` (ingresos) e `y` (felicidad)\n",
    "\n",
    "```Python\n",
    "x = [25.2, 15.6, 26, 24, 39.2, 17.6, 3.6, 24, 10, 8.8, 35.2, 22.8, 31.6, 6, 11.2, 5.2, 22.4, 20.4, 31.2, 19.6]\n",
    "y = [10, 5, 9, 8, 10, 8, 1, 9, 3, 3, 11, 5, 11, 2, 4, 4, 9, 6, 10, 7]\n",
    "```"
   ]
  },
  {
   "cell_type": "code",
   "execution_count": null,
   "id": "8803ba81",
   "metadata": {},
   "outputs": [],
   "source": []
  },
  {
   "cell_type": "code",
   "execution_count": null,
   "id": "f28a0075",
   "metadata": {},
   "outputs": [],
   "source": []
  },
  {
   "cell_type": "code",
   "execution_count": null,
   "id": "5ef25edc",
   "metadata": {},
   "outputs": [],
   "source": []
  },
  {
   "cell_type": "markdown",
   "id": "shaped-noise",
   "metadata": {},
   "source": [
    "Buscamos la recta $h(x)=w_0+w_1x$ que mejor ajuste los puntos, aplicando mínimos cuadrados"
   ]
  },
  {
   "cell_type": "markdown",
   "id": "religious-opportunity",
   "metadata": {},
   "source": [
    "1. Creamos la matrix $X=\\begin{bmatrix} 1 & x_0 \\\\ 1 & x_1 \\\\ \\vdots & \\vdots \\\\ 1 & x_n \\end{bmatrix}$"
   ]
  },
  {
   "cell_type": "code",
   "execution_count": null,
   "id": "1e1e880f",
   "metadata": {},
   "outputs": [],
   "source": []
  },
  {
   "cell_type": "markdown",
   "id": "regulation-receptor",
   "metadata": {},
   "source": [
    "2. Creamos el vector $y=\\begin{bmatrix} y_0 \\\\ y_1 \\\\ \\vdots \\\\ y_n\\end{bmatrix}$ "
   ]
  },
  {
   "cell_type": "code",
   "execution_count": null,
   "id": "e761f169",
   "metadata": {},
   "outputs": [],
   "source": []
  },
  {
   "cell_type": "markdown",
   "id": "compound-header",
   "metadata": {},
   "source": [
    "3. Resolvemos la ecuación matricial para obtener los coeficientes óptimos de la recta\n",
    "\n",
    "  $w = (X^TX)^{-1}X^Ty$"
   ]
  },
  {
   "cell_type": "code",
   "execution_count": null,
   "id": "7a5af4e3",
   "metadata": {},
   "outputs": [],
   "source": []
  },
  {
   "cell_type": "markdown",
   "id": "boring-nudist",
   "metadata": {},
   "source": [
    "Comprobamos que la recta se ajusta a los puntos llamando a la siguiente función"
   ]
  },
  {
   "cell_type": "code",
   "execution_count": null,
   "id": "c7bfb662",
   "metadata": {},
   "outputs": [],
   "source": []
  },
  {
   "cell_type": "code",
   "execution_count": null,
   "id": "e110e655",
   "metadata": {},
   "outputs": [],
   "source": []
  },
  {
   "cell_type": "markdown",
   "id": "sublime-system",
   "metadata": {},
   "source": [
    "¿Cuál sería el nivel de felicidad de los que ganan 20.000€?"
   ]
  },
  {
   "cell_type": "code",
   "execution_count": null,
   "id": "25a02b63",
   "metadata": {},
   "outputs": [],
   "source": []
  },
  {
   "cell_type": "markdown",
   "id": "e65b691f",
   "metadata": {},
   "source": [
    "Resolvamos ahora el problema con el algoritmo del **Gradiente descendente**  \n",
    "\n",
    "Recordando nuestra función de error:\n",
    "$$\\Large J(w_o,w_1) = \\frac{1}{N} \\sum_{i=1}^{N}(y_i -(w_0+w_1x_i))^2$$\n",
    "\n",
    "Tenemos que caluclar el gradiente e ir en la dirección contraria para minimizar el error. Calculando las derivadas parciales obtenemos el vector gradiente:\n",
    "\n",
    "$$\\Large \\nabla J(w_o,w_1) = \\begin{bmatrix}\n",
    "  \\frac{\\partial J}{\\partial w_0} \\\\\n",
    "  \\frac{\\partial J}{\\partial w_1}\n",
    "\\end{bmatrix}= \\begin{bmatrix}\n",
    "  \\frac{2}{N} \\sum_{i=1}^{N}-(y_i -(w_0+w_1x_i)) \\\\\n",
    "  \\frac{2}{N} \\sum_{i=1}^{N}-x_i(y_i -(w_0+w_1x_i))\n",
    "\\end{bmatrix}$$"
   ]
  },
  {
   "cell_type": "markdown",
   "id": "3f70d4a5",
   "metadata": {},
   "source": [
    "De esta forma, los coeficientes $w_o$ y $w_1$ se irán actualizando en esas direcciones con un paso (*learning rate*) $\\alpha$ negativo:\n",
    "\n",
    "$$\\Large w_0 \\rightarrow w_0 - \\alpha \\frac{\\partial J}{\\partial w_0}$$\n",
    "$$\\Large w_1 \\rightarrow w_1 - \\alpha \\frac{\\partial J}{\\partial w_1}$$"
   ]
  },
  {
   "cell_type": "markdown",
   "id": "0093501a",
   "metadata": {},
   "source": [
    "Vamos a programarlo en Python con $\\alpha=0.001$, e inicializando aleatoriamente los parámetros de la recta de regresión, $w_0=0.5$ y $w_1=-1$ "
   ]
  },
  {
   "cell_type": "code",
   "execution_count": null,
   "id": "18ce8773",
   "metadata": {},
   "outputs": [],
   "source": []
  },
  {
   "cell_type": "markdown",
   "id": "cd8e5e06",
   "metadata": {},
   "source": [
    "Calculemos el error inicial"
   ]
  },
  {
   "cell_type": "code",
   "execution_count": null,
   "id": "720e972e",
   "metadata": {},
   "outputs": [],
   "source": []
  },
  {
   "cell_type": "markdown",
   "id": "97248ebe",
   "metadata": {},
   "source": [
    "Ajustemos los coeficientes siguiendo el algoritmo de Gradient Descent para ver cómo disminuye el error.  \n",
    "Primero calculamos las derivadas parciales"
   ]
  },
  {
   "cell_type": "code",
   "execution_count": null,
   "id": "898aac49",
   "metadata": {},
   "outputs": [],
   "source": []
  },
  {
   "cell_type": "markdown",
   "id": "1d86848c",
   "metadata": {},
   "source": [
    "Actualizamos los coeficientes"
   ]
  },
  {
   "cell_type": "code",
   "execution_count": null,
   "id": "e3d63473",
   "metadata": {},
   "outputs": [],
   "source": []
  },
  {
   "cell_type": "markdown",
   "id": "6c3964ce",
   "metadata": {},
   "source": [
    "Calculamos el error ahora:"
   ]
  },
  {
   "cell_type": "code",
   "execution_count": null,
   "id": "f0a84822",
   "metadata": {},
   "outputs": [],
   "source": []
  },
  {
   "cell_type": "markdown",
   "id": "feae03cf",
   "metadata": {},
   "source": [
    "Se comprueba que el error disminuye. Si seguimos actualizando los coeficientes, seguirá disminuyendo. En el momento en el que deje de hacerlo, habremos encontrado los coeficientes óptimos"
   ]
  },
  {
   "cell_type": "code",
   "execution_count": null,
   "id": "6e9353a0",
   "metadata": {},
   "outputs": [],
   "source": []
  },
  {
   "cell_type": "code",
   "execution_count": null,
   "id": "7f8fb38c",
   "metadata": {},
   "outputs": [],
   "source": []
  },
  {
   "cell_type": "code",
   "execution_count": null,
   "id": "06ecbca6",
   "metadata": {},
   "outputs": [],
   "source": []
  },
  {
   "cell_type": "markdown",
   "id": "dadece7a",
   "metadata": {},
   "source": [
    "Ya que estamos, ¿por qué no creamos una clase que haga modelos de regresión?"
   ]
  },
  {
   "cell_type": "code",
   "execution_count": null,
   "id": "d187716c",
   "metadata": {},
   "outputs": [],
   "source": []
  },
  {
   "cell_type": "code",
   "execution_count": null,
   "id": "68540d94",
   "metadata": {},
   "outputs": [],
   "source": []
  },
  {
   "cell_type": "code",
   "execution_count": null,
   "id": "d6151ae5",
   "metadata": {},
   "outputs": [],
   "source": []
  },
  {
   "cell_type": "code",
   "execution_count": null,
   "id": "395a839f",
   "metadata": {},
   "outputs": [],
   "source": []
  },
  {
   "cell_type": "code",
   "execution_count": null,
   "id": "12eebfe4",
   "metadata": {},
   "outputs": [],
   "source": []
  },
  {
   "cell_type": "code",
   "execution_count": null,
   "id": "1c5435fd",
   "metadata": {},
   "outputs": [],
   "source": []
  },
  {
   "cell_type": "code",
   "execution_count": null,
   "id": "7240070f",
   "metadata": {},
   "outputs": [],
   "source": []
  },
  {
   "cell_type": "code",
   "execution_count": null,
   "id": "c8d5db7c",
   "metadata": {},
   "outputs": [],
   "source": []
  },
  {
   "cell_type": "code",
   "execution_count": null,
   "id": "a7ac73d0",
   "metadata": {},
   "outputs": [],
   "source": []
  },
  {
   "cell_type": "markdown",
   "id": "b65231aa",
   "metadata": {},
   "source": [
    "Ahora, utilizemos la librería `sklearn` para hacer la regresión lineal"
   ]
  },
  {
   "cell_type": "code",
   "execution_count": null,
   "id": "ff6ea09a",
   "metadata": {},
   "outputs": [],
   "source": []
  },
  {
   "cell_type": "code",
   "execution_count": null,
   "id": "6332041a",
   "metadata": {},
   "outputs": [],
   "source": []
  },
  {
   "cell_type": "code",
   "execution_count": null,
   "id": "1d06baa8",
   "metadata": {},
   "outputs": [],
   "source": []
  },
  {
   "cell_type": "code",
   "execution_count": null,
   "id": "0595be96",
   "metadata": {},
   "outputs": [],
   "source": []
  },
  {
   "cell_type": "markdown",
   "id": "ce47d836",
   "metadata": {},
   "source": [
    "Por último, añadimos una nueva variable: el estado civil de los encuestados: S (soltero/a), C (casado/a), V (viudo/a):   \n",
    "`['S','C','S','V','C','S','C','S','C','C','V','S','C','C','V','C','S','V','C','S']`"
   ]
  },
  {
   "cell_type": "code",
   "execution_count": null,
   "id": "322bf915",
   "metadata": {},
   "outputs": [],
   "source": []
  },
  {
   "cell_type": "code",
   "execution_count": null,
   "id": "38e1aa6f",
   "metadata": {},
   "outputs": [],
   "source": []
  },
  {
   "cell_type": "markdown",
   "id": "235d0c7c",
   "metadata": {},
   "source": [
    "Necesito convertir la variable categórica a numérica"
   ]
  },
  {
   "cell_type": "code",
   "execution_count": null,
   "id": "ba6e4cc9",
   "metadata": {},
   "outputs": [],
   "source": []
  },
  {
   "cell_type": "markdown",
   "id": "3d40576c",
   "metadata": {},
   "source": [
    "En regresión lineal, evitamos tener columnas que sean combinaciones lineales. Por tanto, descartamos una de las columnas binarias"
   ]
  },
  {
   "cell_type": "code",
   "execution_count": null,
   "id": "f3cfe19a",
   "metadata": {},
   "outputs": [],
   "source": []
  },
  {
   "cell_type": "code",
   "execution_count": null,
   "id": "d7c69c20",
   "metadata": {},
   "outputs": [],
   "source": []
  },
  {
   "cell_type": "code",
   "execution_count": null,
   "id": "c94683d8",
   "metadata": {},
   "outputs": [],
   "source": []
  },
  {
   "cell_type": "code",
   "execution_count": null,
   "id": "74cb1a1f",
   "metadata": {},
   "outputs": [],
   "source": []
  },
  {
   "cell_type": "code",
   "execution_count": null,
   "id": "215c1c3b",
   "metadata": {},
   "outputs": [],
   "source": []
  },
  {
   "cell_type": "markdown",
   "id": "020c2612",
   "metadata": {},
   "source": [
    "Comprobamos que obtendríamos el mismo resultado con la ecuación normal"
   ]
  },
  {
   "cell_type": "code",
   "execution_count": null,
   "id": "d674449b",
   "metadata": {},
   "outputs": [],
   "source": []
  },
  {
   "cell_type": "code",
   "execution_count": null,
   "id": "a2842b51",
   "metadata": {},
   "outputs": [],
   "source": []
  },
  {
   "cell_type": "markdown",
   "id": "e7dd91b2",
   "metadata": {},
   "source": [
    "Predice la felicidad de un hombre casado con ingresos de 14.000€"
   ]
  },
  {
   "cell_type": "code",
   "execution_count": null,
   "id": "d786ff15",
   "metadata": {},
   "outputs": [],
   "source": []
  },
  {
   "cell_type": "markdown",
   "id": "e3cc9809",
   "metadata": {},
   "source": [
    "¿Aumentaría su felicidad si es soltero o viudo?"
   ]
  },
  {
   "cell_type": "code",
   "execution_count": null,
   "id": "f3d62d72",
   "metadata": {},
   "outputs": [],
   "source": []
  },
  {
   "cell_type": "code",
   "execution_count": null,
   "id": "623a60b8",
   "metadata": {},
   "outputs": [],
   "source": []
  },
  {
   "attachments": {
    "image.png": {
     "image/png": "[encoded data removed]"
    }
   },
   "cell_type": "markdown",
   "id": "408e60ad",
   "metadata": {},
   "source": [
    "![image alt <](attachment:image.png)"
   ]
  }
 ],
 "metadata": {
  "kernelspec": {
   "display_name": "Python 3 (ipykernel)",
   "language": "python",
   "name": "python3"
  },
  "language_info": {
   "codemirror_mode": {
    "name": "ipython",
    "version": 3
   },
   "file_extension": ".py",
   "mimetype": "text/x-python",
   "name": "python",
   "nbconvert_exporter": "python",
   "pygments_lexer": "ipython3",
   "version": "3.10.8"
  }
 },
 "nbformat": 4,
 "nbformat_minor": 5
}
