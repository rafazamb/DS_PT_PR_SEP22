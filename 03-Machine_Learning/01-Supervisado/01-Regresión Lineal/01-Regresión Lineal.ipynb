{
 "cells": [
  {
   "cell_type": "markdown",
   "id": "occupational-future",
   "metadata": {},
   "source": [
    "# Regresión Lineal"
   ]
  },
  {
   "cell_type": "markdown",
   "id": "19dcec50",
   "metadata": {},
   "source": [
    "En el módulo de matemáticas, ya vimos la regresión lineal y cómo obtener los coeficientes de manera directa a través del cálculo matricial. Vamos a recordar el ejemplo:"
   ]
  },
  {
   "cell_type": "markdown",
   "id": "scientific-front",
   "metadata": {},
   "source": [
    "Se ha hecho una encuesta a 20 personas, preguntándoles por sus ingresos anuales en miles de euros y su nivel de felicidad en una escala del 0 al 10.   \n",
    "Los resultados obtenidos se guardan en las listas `x` (ingresos) e `y` (felicidad)\n",
    "\n",
    "```Python\n",
    "x = [25.2, 15.6, 26, 24, 39.2, 17.6, 3.6, 24, 10, 8.8, 35.2, 22.8, 31.6, 6, 11.2, 5.2, 22.4, 20.4, 31.2, 19.6]\n",
    "y = [10, 5, 9, 8, 10, 8, 1, 9, 3, 3, 10, 5, 10, 2, 4, 4, 9, 6, 10, 7]\n",
    "```"
   ]
  },
  {
   "cell_type": "code",
   "execution_count": 1,
   "id": "8803ba81",
   "metadata": {},
   "outputs": [],
   "source": [
    "import numpy as np"
   ]
  },
  {
   "cell_type": "code",
   "execution_count": 2,
   "id": "f28a0075",
   "metadata": {},
   "outputs": [],
   "source": [
    "x = np.array([25.2, 15.6, 26, 24, 39.2, 17.6, 3.6, 24, 10, 8.8, 35.2, 22.8, 31.6, 6, 11.2, 5.2, 22.4, 20.4, 31.2, 19.6])\n",
    "y = np.array([10, 5, 9, 8, 10, 8, 1, 9, 3, 3, 10, 5, 10, 2, 4, 4, 9, 6, 10, 7])"
   ]
  },
  {
   "cell_type": "code",
   "execution_count": 3,
   "id": "5ef25edc",
   "metadata": {},
   "outputs": [
    {
     "data": {
      "image/png": "[encoded data removed]",
      "text/plain": [
       "<Figure size 800x300 with 1 Axes>"
      ]
     },
     "metadata": {},
     "output_type": "display_data"
    }
   ],
   "source": [
    "import matplotlib.pyplot as plt\n",
    "plt.figure(figsize=(8,3))\n",
    "ax = plt.axes()\n",
    "ax.scatter(x,y)\n",
    "ax.set_xlabel('Ingresos')\n",
    "ax.set_ylabel('Felicidad');"
   ]
  },
  {
   "cell_type": "markdown",
   "id": "shaped-noise",
   "metadata": {},
   "source": [
    "Buscamos la recta $h(x)=w_0+w_1x$ que mejor ajuste los puntos, aplicando mínimos cuadrados"
   ]
  },
  {
   "cell_type": "markdown",
   "id": "religious-opportunity",
   "metadata": {},
   "source": [
    "1. Creamos la matrix $X=\\begin{bmatrix} 1 & x_0 \\\\ 1 & x_1 \\\\ \\vdots & \\vdots \\\\ 1 & x_n \\end{bmatrix}$"
   ]
  },
  {
   "cell_type": "code",
   "execution_count": 4,
   "id": "1e1e880f",
   "metadata": {},
   "outputs": [
    {
     "name": "stdout",
     "output_type": "stream",
     "text": [
      "(20, 2)\n"
     ]
    },
    {
     "data": {
      "text/plain": [
       "array([[ 1. , 25.2],\n",
       "       [ 1. , 15.6],\n",
       "       [ 1. , 26. ],\n",
       "       [ 1. , 24. ],\n",
       "       [ 1. , 39.2],\n",
       "       [ 1. , 17.6],\n",
       "       [ 1. ,  3.6],\n",
       "       [ 1. , 24. ],\n",
       "       [ 1. , 10. ],\n",
       "       [ 1. ,  8.8],\n",
       "       [ 1. , 35.2],\n",
       "       [ 1. , 22.8],\n",
       "       [ 1. , 31.6],\n",
       "       [ 1. ,  6. ],\n",
       "       [ 1. , 11.2],\n",
       "       [ 1. ,  5.2],\n",
       "       [ 1. , 22.4],\n",
       "       [ 1. , 20.4],\n",
       "       [ 1. , 31.2],\n",
       "       [ 1. , 19.6]])"
      ]
     },
     "execution_count": 4,
     "metadata": {},
     "output_type": "execute_result"
    }
   ],
   "source": [
    "X = np.array([np.ones(len(x)),\n",
    "              np.array(x)]).transpose()\n",
    "\n",
    "print(X.shape)\n",
    "X"
   ]
  },
  {
   "cell_type": "markdown",
   "id": "regulation-receptor",
   "metadata": {},
   "source": [
    "2. Creamos el vector $y=\\begin{bmatrix} y_0 \\\\ y_1 \\\\ \\vdots \\\\ y_n\\end{bmatrix}$ "
   ]
  },
  {
   "cell_type": "code",
   "execution_count": 5,
   "id": "e761f169",
   "metadata": {},
   "outputs": [
    {
     "data": {
      "text/plain": [
       "array([10,  5,  9,  8, 10,  8,  1,  9,  3,  3, 10,  5, 10,  2,  4,  4,  9,\n",
       "        6, 10,  7])"
      ]
     },
     "execution_count": 5,
     "metadata": {},
     "output_type": "execute_result"
    }
   ],
   "source": [
    "y"
   ]
  },
  {
   "cell_type": "markdown",
   "id": "compound-header",
   "metadata": {},
   "source": [
    "3. Resolvemos la ecuación matricial para obtener los coeficientes óptimos de la recta\n",
    "\n",
    "  $w = (X^TX)^{-1}X^Ty$"
   ]
  },
  {
   "cell_type": "code",
   "execution_count": 6,
   "id": "7a5af4e3",
   "metadata": {},
   "outputs": [
    {
     "data": {
      "text/plain": [
       "array([1.20002504, 0.27277152])"
      ]
     },
     "execution_count": 6,
     "metadata": {},
     "output_type": "execute_result"
    }
   ],
   "source": [
    "w = np.linalg.inv(X.transpose().dot(X)).dot(X.transpose()).dot(y)\n",
    "w"
   ]
  },
  {
   "cell_type": "markdown",
   "id": "boring-nudist",
   "metadata": {},
   "source": [
    "Comprobamos que la recta se ajusta a los puntos llamando a la siguiente función"
   ]
  },
  {
   "cell_type": "code",
   "execution_count": 7,
   "id": "c7bfb662",
   "metadata": {},
   "outputs": [],
   "source": [
    "def plot_all(w0,w1):\n",
    "\n",
    "    plt.figure(figsize=(8, 4))\n",
    "    ax = plt.axes()\n",
    "    ax.scatter(x, y)\n",
    "    ax.set_ylim([0,12])\n",
    "    ax.set_xlim([0,45])\n",
    "    ax.set_xlabel('Ingresos')\n",
    "    ax.set_ylabel('Felicidad')\n",
    "    e = np.linspace(0,45,len(x))\n",
    "    z = w0+w1*e\n",
    "\n",
    "    plt.plot(e, z, '-r', label='h(x)='+str(round(w0,2))+' + '+ str(round(w1,2))+'x')\n",
    "    plt.legend(loc='upper left')\n",
    "    plt.show()"
   ]
  },
  {
   "cell_type": "code",
   "execution_count": 8,
   "id": "e110e655",
   "metadata": {},
   "outputs": [
    {
     "data": {
      "image/png": "[encoded data removed]",
      "text/plain": [
       "<Figure size 800x400 with 1 Axes>"
      ]
     },
     "metadata": {},
     "output_type": "display_data"
    }
   ],
   "source": [
    "plot_all(w[0],w[1])"
   ]
  },
  {
   "cell_type": "markdown",
   "id": "sublime-system",
   "metadata": {},
   "source": [
    "¿Cuál sería el nivel de felicidad de los que ganan 20.000€?"
   ]
  },
  {
   "cell_type": "code",
   "execution_count": 9,
   "id": "25a02b63",
   "metadata": {},
   "outputs": [
    {
     "data": {
      "text/plain": [
       "6.655455430387879"
      ]
     },
     "execution_count": 9,
     "metadata": {},
     "output_type": "execute_result"
    }
   ],
   "source": [
    "w[0] + w[1]*20"
   ]
  },
  {
   "cell_type": "markdown",
   "id": "e65b691f",
   "metadata": {},
   "source": [
    "Resolvamos ahora el problema con el algoritmo del **Gradiente descendente**  \n",
    "\n",
    "Recordando nuestra función de error:\n",
    "$$\\Large J(w_o,w_1) = \\frac{1}{N} \\sum_{i=1}^{N}(y_i -(w_0+w_1x_i))^2$$\n",
    "\n",
    "Tenemos que caluclar el gradiente e ir en la dirección contraria para minimizar el error. Calculando las derivadas parciales obtenemos el vector gradiente:\n",
    "\n",
    "$$\\Large \\nabla J(w_o,w_1) = \\begin{bmatrix}\n",
    "  \\frac{\\partial J}{\\partial w_0} \\\\\n",
    "  \\frac{\\partial J}{\\partial w_1}\n",
    "\\end{bmatrix}= \\begin{bmatrix}\n",
    "  \\frac{2}{N} \\sum_{i=1}^{N}-(y_i -(w_0+w_1x_i)) \\\\\n",
    "  \\frac{2}{N} \\sum_{i=1}^{N}-x_i(y_i -(w_0+w_1x_i))\n",
    "\\end{bmatrix}$$"
   ]
  },
  {
   "cell_type": "markdown",
   "id": "3f70d4a5",
   "metadata": {},
   "source": [
    "De esta forma, los coeficientes $w_o$ y $w_1$ se irán actualizando en esas direcciones con un paso (*learning rate*) $\\alpha$ negativo:\n",
    "\n",
    "$$\\Large w_0 \\rightarrow w_0 - \\alpha \\frac{\\partial J}{\\partial w_0}$$\n",
    "$$\\Large w_1 \\rightarrow w_1 - \\alpha \\frac{\\partial J}{\\partial w_1}$$"
   ]
  },
  {
   "cell_type": "markdown",
   "id": "0093501a",
   "metadata": {},
   "source": [
    "Vamos a programarlo en Python con $\\alpha=0.001$, e inicializando aleatoriamente los parámetros de la recta de regresión, $w_0=0.5$ y $w_1=-1$ "
   ]
  },
  {
   "cell_type": "code",
   "execution_count": 10,
   "id": "18ce8773",
   "metadata": {},
   "outputs": [],
   "source": [
    "alpha = 0.001\n",
    "w0 = 0.5\n",
    "w1 = -1"
   ]
  },
  {
   "cell_type": "markdown",
   "id": "cd8e5e06",
   "metadata": {},
   "source": [
    "Calculemos el error inicial"
   ]
  },
  {
   "cell_type": "code",
   "execution_count": 11,
   "id": "720e972e",
   "metadata": {},
   "outputs": [
    {
     "data": {
      "text/plain": [
       "844.6619999999999"
      ]
     },
     "execution_count": 11,
     "metadata": {},
     "output_type": "execute_result"
    }
   ],
   "source": [
    "np.mean((y-(w0+w1*x))**2)"
   ]
  },
  {
   "cell_type": "markdown",
   "id": "97248ebe",
   "metadata": {},
   "source": [
    "Ajustemos los coeficientes siguiendo el algoritmo de Gradient Descent para ver cómo disminuye el error.  \n",
    "Primero calculamos las derivadas parciales"
   ]
  },
  {
   "cell_type": "code",
   "execution_count": 12,
   "id": "898aac49",
   "metadata": {},
   "outputs": [
    {
     "data": {
      "text/plain": [
       "(-52.25999999999999, -1296.2440000000001)"
      ]
     },
     "execution_count": 12,
     "metadata": {},
     "output_type": "execute_result"
    }
   ],
   "source": [
    "dJ_dw0 = 2*np.mean(-(y-(w0+w1*x)))\n",
    "dJ_dw1 = 2*np.mean(-x*(y-(w0+w1*x)))\n",
    "\n",
    "dJ_dw0, dJ_dw1"
   ]
  },
  {
   "cell_type": "markdown",
   "id": "1d86848c",
   "metadata": {},
   "source": [
    "Actualizamos los coeficientes"
   ]
  },
  {
   "cell_type": "code",
   "execution_count": 13,
   "id": "e3d63473",
   "metadata": {},
   "outputs": [],
   "source": [
    "w0 = w0 - alpha*dJ_dw0\n",
    "w1 = w1 - alpha*dJ_dw1"
   ]
  },
  {
   "cell_type": "markdown",
   "id": "6c3964ce",
   "metadata": {},
   "source": [
    "Calculamos el error ahora:"
   ]
  },
  {
   "cell_type": "code",
   "execution_count": 14,
   "id": "f0a84822",
   "metadata": {},
   "outputs": [
    {
     "data": {
      "text/plain": [
       "1.545649167418752"
      ]
     },
     "execution_count": 14,
     "metadata": {},
     "output_type": "execute_result"
    }
   ],
   "source": [
    "np.mean((y-(w0+w1*x))**2)"
   ]
  },
  {
   "cell_type": "markdown",
   "id": "feae03cf",
   "metadata": {},
   "source": [
    "Se comprueba que el error disminuye. Si seguimos actualizando los coeficientes, seguirá disminuyendo. En el momento en el que deje de hacerlo, habremos encontrado los coeficientes óptimos"
   ]
  },
  {
   "cell_type": "code",
   "execution_count": 15,
   "id": "6e9353a0",
   "metadata": {},
   "outputs": [
    {
     "data": {
      "text/plain": [
       "[<matplotlib.lines.Line2D at 0x1a95736a890>]"
      ]
     },
     "execution_count": 15,
     "metadata": {},
     "output_type": "execute_result"
    },
    {
     "data": {
      "image/png": "[encoded data removed]",
      "text/plain": [
       "<Figure size 640x480 with 1 Axes>"
      ]
     },
     "metadata": {},
     "output_type": "display_data"
    }
   ],
   "source": [
    "alpha = 0.001\n",
    "w0 = 0.5\n",
    "w1 = -1\n",
    "\n",
    "epochs = 10000 # número de iteraciones\n",
    "error = []\n",
    "\n",
    "for k in range(epochs):\n",
    "    dJ_dw0 = 2*np.mean(-(y-(w0+w1*x)))\n",
    "    dJ_dw1 = 2*np.mean(-x*(y-(w0+w1*x)))\n",
    "    w0 = w0-alpha*dJ_dw0\n",
    "    w1 = w1-alpha*dJ_dw1\n",
    "    error.append(np.mean((y-(w0+w1*x))**2))\n",
    "    \n",
    "plt.plot(error,'.')"
   ]
  },
  {
   "cell_type": "code",
   "execution_count": 16,
   "id": "7f8fb38c",
   "metadata": {},
   "outputs": [
    {
     "data": {
      "text/plain": [
       "(1.1877931562849213, 0.2732622355016479)"
      ]
     },
     "execution_count": 16,
     "metadata": {},
     "output_type": "execute_result"
    }
   ],
   "source": [
    "w0, w1"
   ]
  },
  {
   "cell_type": "code",
   "execution_count": 17,
   "id": "06ecbca6",
   "metadata": {},
   "outputs": [
    {
     "data": {
      "image/png": "[encoded data removed]",
      "text/plain": [
       "<Figure size 800x400 with 1 Axes>"
      ]
     },
     "metadata": {},
     "output_type": "display_data"
    }
   ],
   "source": [
    "plot_all(w0,w1)"
   ]
  },
  {
   "cell_type": "markdown",
   "id": "dadece7a",
   "metadata": {},
   "source": [
    "Ya que estamos, ¿por qué no creamos una clase que haga modelos de regresión?"
   ]
  },
  {
   "cell_type": "code",
   "execution_count": 18,
   "id": "d187716c",
   "metadata": {},
   "outputs": [],
   "source": [
    "class LinReg:\n",
    "    \n",
    "    def __init__(self,w0=1,w1=1,lr=0.001):\n",
    "        self.w0 = w0\n",
    "        self.w1 = w1\n",
    "        self.lr = lr\n",
    "        \n",
    "    def cost(self,x,y):\n",
    "        return np.mean((y-(self.w0+self.w1*x))**2)\n",
    "    \n",
    "    def fit(self,x,y):\n",
    "        for k in range(10000):\n",
    "            dJ_dw0 = 2*np.mean(-(y-(self.w0+self.w1*x)))\n",
    "            dJ_dw1 = 2*np.mean(-x*(y-(self.w0+self.w1*x)))\n",
    "            self.w0 = self.w0-self.lr*dJ_dw0\n",
    "            self.w1 = self.w1-self.lr*dJ_dw1\n",
    "            \n",
    "    def plot_results(self,x,y):\n",
    "        plt.figure(figsize=(8, 4))\n",
    "        ax = plt.axes()\n",
    "        ax.scatter(x, y)\n",
    "        ax.set_ylim([0,12])\n",
    "        ax.set_xlim([0,45])\n",
    "        ax.set_xlabel('Ingresos')\n",
    "        ax.set_ylabel('Felicidad')\n",
    "        e = np.linspace(0,45,len(x))\n",
    "        z = self.w0+self.w1*e\n",
    "        plt.plot(e, z, '-r', label='h(x)='+str(round(self.w0,2))+' + '+ str(round(self.w1,2))+'x')\n",
    "        plt.legend(loc='upper left')\n",
    "        plt.show()\n",
    "        \n",
    "    def predict(self, x):\n",
    "        return self.w0 + self.w1*x\n",
    "    \n",
    "    def params(self):\n",
    "        return (self.w0, self.w1)"
   ]
  },
  {
   "cell_type": "code",
   "execution_count": 19,
   "id": "68540d94",
   "metadata": {},
   "outputs": [],
   "source": [
    "model = LinReg(w0=0.5, w1=-1, lr=0.001)"
   ]
  },
  {
   "cell_type": "code",
   "execution_count": 20,
   "id": "d6151ae5",
   "metadata": {},
   "outputs": [
    {
     "data": {
      "text/plain": [
       "844.6619999999999"
      ]
     },
     "execution_count": 20,
     "metadata": {},
     "output_type": "execute_result"
    }
   ],
   "source": [
    "model.cost(x,y)"
   ]
  },
  {
   "cell_type": "code",
   "execution_count": 21,
   "id": "395a839f",
   "metadata": {},
   "outputs": [
    {
     "data": {
      "text/plain": [
       "(0.5, -1)"
      ]
     },
     "execution_count": 21,
     "metadata": {},
     "output_type": "execute_result"
    }
   ],
   "source": [
    "model.params()"
   ]
  },
  {
   "cell_type": "code",
   "execution_count": 22,
   "id": "12eebfe4",
   "metadata": {},
   "outputs": [],
   "source": [
    "model.fit(x,y)"
   ]
  },
  {
   "cell_type": "code",
   "execution_count": 23,
   "id": "1c5435fd",
   "metadata": {},
   "outputs": [
    {
     "data": {
      "text/plain": [
       "(1.1877931562849213, 0.2732622355016479)"
      ]
     },
     "execution_count": 23,
     "metadata": {},
     "output_type": "execute_result"
    }
   ],
   "source": [
    "model.params()"
   ]
  },
  {
   "cell_type": "code",
   "execution_count": 24,
   "id": "7240070f",
   "metadata": {},
   "outputs": [
    {
     "data": {
      "text/plain": [
       "1.4591526858177823"
      ]
     },
     "execution_count": 24,
     "metadata": {},
     "output_type": "execute_result"
    }
   ],
   "source": [
    "model.cost(x,y)"
   ]
  },
  {
   "cell_type": "code",
   "execution_count": 25,
   "id": "c8d5db7c",
   "metadata": {},
   "outputs": [
    {
     "data": {
      "image/png": "[encoded data removed]",
      "text/plain": [
       "<Figure size 800x400 with 1 Axes>"
      ]
     },
     "metadata": {},
     "output_type": "display_data"
    }
   ],
   "source": [
    "model.plot_results(x,y)"
   ]
  },
  {
   "cell_type": "markdown",
   "id": "b65231aa",
   "metadata": {},
   "source": [
    "Ahora, utilizemos la librería `sklearn` para hacer la regresión lineal"
   ]
  },
  {
   "cell_type": "code",
   "execution_count": 26,
   "id": "ff6ea09a",
   "metadata": {},
   "outputs": [],
   "source": [
    "from sklearn.linear_model import LinearRegression"
   ]
  },
  {
   "cell_type": "code",
   "execution_count": 27,
   "id": "6332041a",
   "metadata": {},
   "outputs": [
    {
     "data": {
      "text/plain": [
       "LinearRegression()"
      ]
     },
     "execution_count": 27,
     "metadata": {},
     "output_type": "execute_result"
    }
   ],
   "source": [
    "# Creando un objeto de la clase LinearRegression\n",
    "lm = LinearRegression()\n",
    "\n",
    "# Entrenar el modelo\n",
    "lm.fit(x.reshape(-1, 1),y.reshape(-1, 1))"
   ]
  },
  {
   "cell_type": "code",
   "execution_count": 28,
   "id": "1d06baa8",
   "metadata": {},
   "outputs": [
    {
     "data": {
      "text/plain": [
       "array([1.20002504])"
      ]
     },
     "execution_count": 28,
     "metadata": {},
     "output_type": "execute_result"
    }
   ],
   "source": [
    "lm.intercept_"
   ]
  },
  {
   "cell_type": "code",
   "execution_count": 29,
   "id": "0595be96",
   "metadata": {},
   "outputs": [
    {
     "data": {
      "text/plain": [
       "array([[0.27277152]])"
      ]
     },
     "execution_count": 29,
     "metadata": {},
     "output_type": "execute_result"
    }
   ],
   "source": [
    "lm.coef_"
   ]
  },
  {
   "cell_type": "code",
   "execution_count": 30,
   "id": "84b0fde9",
   "metadata": {},
   "outputs": [
    {
     "data": {
      "image/png": "[encoded data removed]",
      "text/plain": [
       "<Figure size 800x400 with 1 Axes>"
      ]
     },
     "metadata": {},
     "output_type": "display_data"
    }
   ],
   "source": [
    "plot_all(lm.intercept_[0], lm.coef_[0][0])"
   ]
  },
  {
   "cell_type": "markdown",
   "id": "ce47d836",
   "metadata": {},
   "source": [
    "Por último, añadimos una nueva variable: el estado civil de los encuestados: S (soltero/a), C (casado/a), V (viudo/a):   \n",
    "`['S','C','S','V','C','S','C','S','C','C','V','S','C','C','V','C','S','V','C','S']`"
   ]
  },
  {
   "cell_type": "code",
   "execution_count": 31,
   "id": "322bf915",
   "metadata": {},
   "outputs": [],
   "source": [
    "estado = np.array(['S','C','S','V','C','S','C','S','C','C','V','S','C','C','V','C','S','V','C','S'])"
   ]
  },
  {
   "cell_type": "code",
   "execution_count": 32,
   "id": "38e1aa6f",
   "metadata": {
    "scrolled": true
   },
   "outputs": [
    {
     "data": {
      "text/html": [
       "<div>\n",
       "<style scoped>\n",
       "    .dataframe tbody tr th:only-of-type {\n",
       "        vertical-align: middle;\n",
       "    }\n",
       "\n",
       "    .dataframe tbody tr th {\n",
       "        vertical-align: top;\n",
       "    }\n",
       "\n",
       "    .dataframe thead th {\n",
       "        text-align: right;\n",
       "    }\n",
       "</style>\n",
       "<table border=\"1\" class=\"dataframe\">\n",
       "  <thead>\n",
       "    <tr style=\"text-align: right;\">\n",
       "      <th></th>\n",
       "      <th>Salario</th>\n",
       "      <th>Estado</th>\n",
       "      <th>Felicidad</th>\n",
       "    </tr>\n",
       "  </thead>\n",
       "  <tbody>\n",
       "    <tr>\n",
       "      <th>0</th>\n",
       "      <td>25.2</td>\n",
       "      <td>S</td>\n",
       "      <td>10</td>\n",
       "    </tr>\n",
       "    <tr>\n",
       "      <th>1</th>\n",
       "      <td>15.6</td>\n",
       "      <td>C</td>\n",
       "      <td>5</td>\n",
       "    </tr>\n",
       "    <tr>\n",
       "      <th>2</th>\n",
       "      <td>26.0</td>\n",
       "      <td>S</td>\n",
       "      <td>9</td>\n",
       "    </tr>\n",
       "    <tr>\n",
       "      <th>3</th>\n",
       "      <td>24.0</td>\n",
       "      <td>V</td>\n",
       "      <td>8</td>\n",
       "    </tr>\n",
       "    <tr>\n",
       "      <th>4</th>\n",
       "      <td>39.2</td>\n",
       "      <td>C</td>\n",
       "      <td>10</td>\n",
       "    </tr>\n",
       "    <tr>\n",
       "      <th>5</th>\n",
       "      <td>17.6</td>\n",
       "      <td>S</td>\n",
       "      <td>8</td>\n",
       "    </tr>\n",
       "    <tr>\n",
       "      <th>6</th>\n",
       "      <td>3.6</td>\n",
       "      <td>C</td>\n",
       "      <td>1</td>\n",
       "    </tr>\n",
       "    <tr>\n",
       "      <th>7</th>\n",
       "      <td>24.0</td>\n",
       "      <td>S</td>\n",
       "      <td>9</td>\n",
       "    </tr>\n",
       "    <tr>\n",
       "      <th>8</th>\n",
       "      <td>10.0</td>\n",
       "      <td>C</td>\n",
       "      <td>3</td>\n",
       "    </tr>\n",
       "    <tr>\n",
       "      <th>9</th>\n",
       "      <td>8.8</td>\n",
       "      <td>C</td>\n",
       "      <td>3</td>\n",
       "    </tr>\n",
       "    <tr>\n",
       "      <th>10</th>\n",
       "      <td>35.2</td>\n",
       "      <td>V</td>\n",
       "      <td>10</td>\n",
       "    </tr>\n",
       "    <tr>\n",
       "      <th>11</th>\n",
       "      <td>22.8</td>\n",
       "      <td>S</td>\n",
       "      <td>5</td>\n",
       "    </tr>\n",
       "    <tr>\n",
       "      <th>12</th>\n",
       "      <td>31.6</td>\n",
       "      <td>C</td>\n",
       "      <td>10</td>\n",
       "    </tr>\n",
       "    <tr>\n",
       "      <th>13</th>\n",
       "      <td>6.0</td>\n",
       "      <td>C</td>\n",
       "      <td>2</td>\n",
       "    </tr>\n",
       "    <tr>\n",
       "      <th>14</th>\n",
       "      <td>11.2</td>\n",
       "      <td>V</td>\n",
       "      <td>4</td>\n",
       "    </tr>\n",
       "    <tr>\n",
       "      <th>15</th>\n",
       "      <td>5.2</td>\n",
       "      <td>C</td>\n",
       "      <td>4</td>\n",
       "    </tr>\n",
       "    <tr>\n",
       "      <th>16</th>\n",
       "      <td>22.4</td>\n",
       "      <td>S</td>\n",
       "      <td>9</td>\n",
       "    </tr>\n",
       "    <tr>\n",
       "      <th>17</th>\n",
       "      <td>20.4</td>\n",
       "      <td>V</td>\n",
       "      <td>6</td>\n",
       "    </tr>\n",
       "    <tr>\n",
       "      <th>18</th>\n",
       "      <td>31.2</td>\n",
       "      <td>C</td>\n",
       "      <td>10</td>\n",
       "    </tr>\n",
       "    <tr>\n",
       "      <th>19</th>\n",
       "      <td>19.6</td>\n",
       "      <td>S</td>\n",
       "      <td>7</td>\n",
       "    </tr>\n",
       "  </tbody>\n",
       "</table>\n",
       "</div>"
      ],
      "text/plain": [
       "    Salario Estado  Felicidad\n",
       "0      25.2      S         10\n",
       "1      15.6      C          5\n",
       "2      26.0      S          9\n",
       "3      24.0      V          8\n",
       "4      39.2      C         10\n",
       "5      17.6      S          8\n",
       "6       3.6      C          1\n",
       "7      24.0      S          9\n",
       "8      10.0      C          3\n",
       "9       8.8      C          3\n",
       "10     35.2      V         10\n",
       "11     22.8      S          5\n",
       "12     31.6      C         10\n",
       "13      6.0      C          2\n",
       "14     11.2      V          4\n",
       "15      5.2      C          4\n",
       "16     22.4      S          9\n",
       "17     20.4      V          6\n",
       "18     31.2      C         10\n",
       "19     19.6      S          7"
      ]
     },
     "execution_count": 32,
     "metadata": {},
     "output_type": "execute_result"
    }
   ],
   "source": [
    "import pandas as pd\n",
    "df = pd.DataFrame({'Salario':x, 'Estado':estado, 'Felicidad':y})\n",
    "df"
   ]
  },
  {
   "cell_type": "markdown",
   "id": "235d0c7c",
   "metadata": {},
   "source": [
    "Necesito convertir la variable categórica a numérica. Probemos con un one-hot-encoding"
   ]
  },
  {
   "cell_type": "code",
   "execution_count": 33,
   "id": "ba6e4cc9",
   "metadata": {},
   "outputs": [
    {
     "data": {
      "text/html": [
       "<div>\n",
       "<style scoped>\n",
       "    .dataframe tbody tr th:only-of-type {\n",
       "        vertical-align: middle;\n",
       "    }\n",
       "\n",
       "    .dataframe tbody tr th {\n",
       "        vertical-align: top;\n",
       "    }\n",
       "\n",
       "    .dataframe thead th {\n",
       "        text-align: right;\n",
       "    }\n",
       "</style>\n",
       "<table border=\"1\" class=\"dataframe\">\n",
       "  <thead>\n",
       "    <tr style=\"text-align: right;\">\n",
       "      <th></th>\n",
       "      <th>Salario</th>\n",
       "      <th>Felicidad</th>\n",
       "      <th>Estado_C</th>\n",
       "      <th>Estado_S</th>\n",
       "      <th>Estado_V</th>\n",
       "    </tr>\n",
       "  </thead>\n",
       "  <tbody>\n",
       "    <tr>\n",
       "      <th>0</th>\n",
       "      <td>25.2</td>\n",
       "      <td>10</td>\n",
       "      <td>0</td>\n",
       "      <td>1</td>\n",
       "      <td>0</td>\n",
       "    </tr>\n",
       "    <tr>\n",
       "      <th>1</th>\n",
       "      <td>15.6</td>\n",
       "      <td>5</td>\n",
       "      <td>1</td>\n",
       "      <td>0</td>\n",
       "      <td>0</td>\n",
       "    </tr>\n",
       "    <tr>\n",
       "      <th>2</th>\n",
       "      <td>26.0</td>\n",
       "      <td>9</td>\n",
       "      <td>0</td>\n",
       "      <td>1</td>\n",
       "      <td>0</td>\n",
       "    </tr>\n",
       "    <tr>\n",
       "      <th>3</th>\n",
       "      <td>24.0</td>\n",
       "      <td>8</td>\n",
       "      <td>0</td>\n",
       "      <td>0</td>\n",
       "      <td>1</td>\n",
       "    </tr>\n",
       "    <tr>\n",
       "      <th>4</th>\n",
       "      <td>39.2</td>\n",
       "      <td>10</td>\n",
       "      <td>1</td>\n",
       "      <td>0</td>\n",
       "      <td>0</td>\n",
       "    </tr>\n",
       "    <tr>\n",
       "      <th>5</th>\n",
       "      <td>17.6</td>\n",
       "      <td>8</td>\n",
       "      <td>0</td>\n",
       "      <td>1</td>\n",
       "      <td>0</td>\n",
       "    </tr>\n",
       "    <tr>\n",
       "      <th>6</th>\n",
       "      <td>3.6</td>\n",
       "      <td>1</td>\n",
       "      <td>1</td>\n",
       "      <td>0</td>\n",
       "      <td>0</td>\n",
       "    </tr>\n",
       "    <tr>\n",
       "      <th>7</th>\n",
       "      <td>24.0</td>\n",
       "      <td>9</td>\n",
       "      <td>0</td>\n",
       "      <td>1</td>\n",
       "      <td>0</td>\n",
       "    </tr>\n",
       "    <tr>\n",
       "      <th>8</th>\n",
       "      <td>10.0</td>\n",
       "      <td>3</td>\n",
       "      <td>1</td>\n",
       "      <td>0</td>\n",
       "      <td>0</td>\n",
       "    </tr>\n",
       "    <tr>\n",
       "      <th>9</th>\n",
       "      <td>8.8</td>\n",
       "      <td>3</td>\n",
       "      <td>1</td>\n",
       "      <td>0</td>\n",
       "      <td>0</td>\n",
       "    </tr>\n",
       "    <tr>\n",
       "      <th>10</th>\n",
       "      <td>35.2</td>\n",
       "      <td>10</td>\n",
       "      <td>0</td>\n",
       "      <td>0</td>\n",
       "      <td>1</td>\n",
       "    </tr>\n",
       "    <tr>\n",
       "      <th>11</th>\n",
       "      <td>22.8</td>\n",
       "      <td>5</td>\n",
       "      <td>0</td>\n",
       "      <td>1</td>\n",
       "      <td>0</td>\n",
       "    </tr>\n",
       "    <tr>\n",
       "      <th>12</th>\n",
       "      <td>31.6</td>\n",
       "      <td>10</td>\n",
       "      <td>1</td>\n",
       "      <td>0</td>\n",
       "      <td>0</td>\n",
       "    </tr>\n",
       "    <tr>\n",
       "      <th>13</th>\n",
       "      <td>6.0</td>\n",
       "      <td>2</td>\n",
       "      <td>1</td>\n",
       "      <td>0</td>\n",
       "      <td>0</td>\n",
       "    </tr>\n",
       "    <tr>\n",
       "      <th>14</th>\n",
       "      <td>11.2</td>\n",
       "      <td>4</td>\n",
       "      <td>0</td>\n",
       "      <td>0</td>\n",
       "      <td>1</td>\n",
       "    </tr>\n",
       "    <tr>\n",
       "      <th>15</th>\n",
       "      <td>5.2</td>\n",
       "      <td>4</td>\n",
       "      <td>1</td>\n",
       "      <td>0</td>\n",
       "      <td>0</td>\n",
       "    </tr>\n",
       "    <tr>\n",
       "      <th>16</th>\n",
       "      <td>22.4</td>\n",
       "      <td>9</td>\n",
       "      <td>0</td>\n",
       "      <td>1</td>\n",
       "      <td>0</td>\n",
       "    </tr>\n",
       "    <tr>\n",
       "      <th>17</th>\n",
       "      <td>20.4</td>\n",
       "      <td>6</td>\n",
       "      <td>0</td>\n",
       "      <td>0</td>\n",
       "      <td>1</td>\n",
       "    </tr>\n",
       "    <tr>\n",
       "      <th>18</th>\n",
       "      <td>31.2</td>\n",
       "      <td>10</td>\n",
       "      <td>1</td>\n",
       "      <td>0</td>\n",
       "      <td>0</td>\n",
       "    </tr>\n",
       "    <tr>\n",
       "      <th>19</th>\n",
       "      <td>19.6</td>\n",
       "      <td>7</td>\n",
       "      <td>0</td>\n",
       "      <td>1</td>\n",
       "      <td>0</td>\n",
       "    </tr>\n",
       "  </tbody>\n",
       "</table>\n",
       "</div>"
      ],
      "text/plain": [
       "    Salario  Felicidad  Estado_C  Estado_S  Estado_V\n",
       "0      25.2         10         0         1         0\n",
       "1      15.6          5         1         0         0\n",
       "2      26.0          9         0         1         0\n",
       "3      24.0          8         0         0         1\n",
       "4      39.2         10         1         0         0\n",
       "5      17.6          8         0         1         0\n",
       "6       3.6          1         1         0         0\n",
       "7      24.0          9         0         1         0\n",
       "8      10.0          3         1         0         0\n",
       "9       8.8          3         1         0         0\n",
       "10     35.2         10         0         0         1\n",
       "11     22.8          5         0         1         0\n",
       "12     31.6         10         1         0         0\n",
       "13      6.0          2         1         0         0\n",
       "14     11.2          4         0         0         1\n",
       "15      5.2          4         1         0         0\n",
       "16     22.4          9         0         1         0\n",
       "17     20.4          6         0         0         1\n",
       "18     31.2         10         1         0         0\n",
       "19     19.6          7         0         1         0"
      ]
     },
     "execution_count": 33,
     "metadata": {},
     "output_type": "execute_result"
    }
   ],
   "source": [
    "df2 = pd.get_dummies(df)\n",
    "df2"
   ]
  },
  {
   "cell_type": "markdown",
   "id": "3d40576c",
   "metadata": {},
   "source": [
    "En regresión lineal, evitamos tener columnas que sean combinaciones lineales. Por tanto, descartamos una de las columnas binarias"
   ]
  },
  {
   "cell_type": "code",
   "execution_count": 35,
   "id": "f3cfe19a",
   "metadata": {},
   "outputs": [],
   "source": [
    "X = df2[['Salario','Estado_S','Estado_C']].values\n",
    "y = df2[['Felicidad']].values"
   ]
  },
  {
   "cell_type": "code",
   "execution_count": 36,
   "id": "d7c69c20",
   "metadata": {},
   "outputs": [],
   "source": [
    "from sklearn.linear_model import LinearRegression\n",
    "lm = LinearRegression()"
   ]
  },
  {
   "cell_type": "code",
   "execution_count": 37,
   "id": "c94683d8",
   "metadata": {},
   "outputs": [
    {
     "data": {
      "text/plain": [
       "LinearRegression()"
      ]
     },
     "execution_count": 37,
     "metadata": {},
     "output_type": "execute_result"
    }
   ],
   "source": [
    "# Entrenar el modelo\n",
    "lm.fit(X,y)"
   ]
  },
  {
   "cell_type": "code",
   "execution_count": 38,
   "id": "74cb1a1f",
   "metadata": {},
   "outputs": [
    {
     "data": {
      "text/plain": [
       "array([1.09339907])"
      ]
     },
     "execution_count": 38,
     "metadata": {},
     "output_type": "execute_result"
    }
   ],
   "source": [
    "lm.intercept_"
   ]
  },
  {
   "cell_type": "code",
   "execution_count": 39,
   "id": "215c1c3b",
   "metadata": {},
   "outputs": [
    {
     "data": {
      "text/plain": [
       "array([[ 0.26020268,  1.1911805 , -0.13147083]])"
      ]
     },
     "execution_count": 39,
     "metadata": {},
     "output_type": "execute_result"
    }
   ],
   "source": [
    "lm.coef_"
   ]
  },
  {
   "cell_type": "markdown",
   "id": "8775ae58",
   "metadata": {},
   "source": [
    "Felicidad = 1.09 + 0.26xIngresos + 1.19xSoltero -0.13xCasado"
   ]
  },
  {
   "cell_type": "markdown",
   "id": "020c2612",
   "metadata": {},
   "source": [
    "Comprobamos que obtendríamos el mismo resultado con la ecuación normal"
   ]
  },
  {
   "cell_type": "code",
   "execution_count": 42,
   "id": "d674449b",
   "metadata": {},
   "outputs": [
    {
     "data": {
      "text/plain": [
       "array([[ 1. , 25.2,  1. ,  0. ],\n",
       "       [ 1. , 15.6,  0. ,  1. ],\n",
       "       [ 1. , 26. ,  1. ,  0. ],\n",
       "       [ 1. , 24. ,  0. ,  0. ],\n",
       "       [ 1. , 39.2,  0. ,  1. ],\n",
       "       [ 1. , 17.6,  1. ,  0. ],\n",
       "       [ 1. ,  3.6,  0. ,  1. ],\n",
       "       [ 1. , 24. ,  1. ,  0. ],\n",
       "       [ 1. , 10. ,  0. ,  1. ],\n",
       "       [ 1. ,  8.8,  0. ,  1. ],\n",
       "       [ 1. , 35.2,  0. ,  0. ],\n",
       "       [ 1. , 22.8,  1. ,  0. ],\n",
       "       [ 1. , 31.6,  0. ,  1. ],\n",
       "       [ 1. ,  6. ,  0. ,  1. ],\n",
       "       [ 1. , 11.2,  0. ,  0. ],\n",
       "       [ 1. ,  5.2,  0. ,  1. ],\n",
       "       [ 1. , 22.4,  1. ,  0. ],\n",
       "       [ 1. , 20.4,  0. ,  0. ],\n",
       "       [ 1. , 31.2,  0. ,  1. ],\n",
       "       [ 1. , 19.6,  1. ,  0. ]])"
      ]
     },
     "execution_count": 42,
     "metadata": {},
     "output_type": "execute_result"
    }
   ],
   "source": [
    "X = np.array([np.ones(len(x)),\n",
    "              np.array(x),\n",
    "              np.array(df2.Estado_S),\n",
    "              np.array(df2.Estado_C)\n",
    "             ]).transpose()\n",
    "X"
   ]
  },
  {
   "cell_type": "code",
   "execution_count": 44,
   "id": "a2842b51",
   "metadata": {},
   "outputs": [
    {
     "data": {
      "text/plain": [
       "array([[ 1.09339907],\n",
       "       [ 0.26020268],\n",
       "       [ 1.1911805 ],\n",
       "       [-0.13147083]])"
      ]
     },
     "execution_count": 44,
     "metadata": {},
     "output_type": "execute_result"
    }
   ],
   "source": [
    "w = np.linalg.inv(X.transpose().dot(X)).dot(X.transpose()).dot(y)\n",
    "w"
   ]
  },
  {
   "cell_type": "markdown",
   "id": "e7dd91b2",
   "metadata": {},
   "source": [
    "Predice la felicidad de un hombre casado con ingresos de 14.000€"
   ]
  },
  {
   "cell_type": "code",
   "execution_count": 45,
   "id": "d786ff15",
   "metadata": {},
   "outputs": [
    {
     "data": {
      "text/plain": [
       "array([[4.60476582]])"
      ]
     },
     "execution_count": 45,
     "metadata": {},
     "output_type": "execute_result"
    }
   ],
   "source": [
    "lm.predict(np.array([[14,0,1]]))"
   ]
  },
  {
   "cell_type": "markdown",
   "id": "e3cc9809",
   "metadata": {},
   "source": [
    "¿Aumentaría su felicidad si es soltero o viudo?"
   ]
  },
  {
   "cell_type": "code",
   "execution_count": 46,
   "id": "f3d62d72",
   "metadata": {},
   "outputs": [
    {
     "data": {
      "text/plain": [
       "array([[5.92741715]])"
      ]
     },
     "execution_count": 46,
     "metadata": {},
     "output_type": "execute_result"
    }
   ],
   "source": [
    "lm.predict(np.array([[14,1,0]]))"
   ]
  },
  {
   "cell_type": "code",
   "execution_count": 47,
   "id": "623a60b8",
   "metadata": {},
   "outputs": [
    {
     "data": {
      "text/plain": [
       "array([[4.73623665]])"
      ]
     },
     "execution_count": 47,
     "metadata": {},
     "output_type": "execute_result"
    }
   ],
   "source": [
    "lm.predict(np.array([[14,0,0]]))"
   ]
  },
  {
   "attachments": {
    "image.png": {
     "image/png": "[encoded data removed]"
    }
   },
   "cell_type": "markdown",
   "id": "408e60ad",
   "metadata": {},
   "source": [
    "![image alt <](attachment:image.png)"
   ]
  }
 ],
 "metadata": {
  "kernelspec": {
   "display_name": "Python 3 (ipykernel)",
   "language": "python",
   "name": "python3"
  },
  "language_info": {
   "codemirror_mode": {
    "name": "ipython",
    "version": 3
   },
   "file_extension": ".py",
   "mimetype": "text/x-python",
   "name": "python",
   "nbconvert_exporter": "python",
   "pygments_lexer": "ipython3",
   "version": "3.10.8"
  }
 },
 "nbformat": 4,
 "nbformat_minor": 5
}
