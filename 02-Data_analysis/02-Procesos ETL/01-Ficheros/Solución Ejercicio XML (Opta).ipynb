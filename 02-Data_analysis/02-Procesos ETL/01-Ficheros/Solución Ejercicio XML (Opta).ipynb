{
 "cells": [
  {
   "cell_type": "code",
   "execution_count": 2,
   "id": "b6f127b5",
   "metadata": {},
   "outputs": [],
   "source": [
    "import ftplib\n",
    "ftp = ftplib.FTP('f31-preview.runhosting.com','4009006_DATOS','Rafa9999')"
   ]
  },
  {
   "cell_type": "code",
   "execution_count": 3,
   "id": "645eefee",
   "metadata": {},
   "outputs": [
    {
     "name": "stdout",
     "output_type": "stream",
     "text": [
      "drwxr-xr-x   2 4009006_DATOS 1111           61 Dec 16  2021 .\n",
      "drwxr-xr-x   2 4009006_DATOS 1111           61 Dec 16  2021 ..\n",
      "-rw-r--r--   1 4009006_DATOS 1111        33182 Dec 16  2021 books.xml\n",
      "-rw-r--r--   1 4009006_DATOS 1111         3841 Dec 16  2021 colors.json\n",
      "-rw-r--r--   1 4009006_DATOS 1111       763509 May  3 21:07 OptaF24.xml\n"
     ]
    }
   ],
   "source": [
    "ftp.dir()"
   ]
  },
  {
   "cell_type": "code",
   "execution_count": 4,
   "id": "13abca25",
   "metadata": {},
   "outputs": [
    {
     "data": {
      "text/plain": [
       "'226 Transfer complete'"
      ]
     },
     "execution_count": 4,
     "metadata": {},
     "output_type": "execute_result"
    }
   ],
   "source": [
    "filename = 'OptaF24.xml'\n",
    "ftp.retrbinary(\"RETR \" + filename, open(filename,'wb').write)"
   ]
  },
  {
   "cell_type": "code",
   "execution_count": 5,
   "id": "668a404f",
   "metadata": {},
   "outputs": [
    {
     "data": {
      "text/plain": [
       "'221 Goodbye.'"
      ]
     },
     "execution_count": 5,
     "metadata": {},
     "output_type": "execute_result"
    }
   ],
   "source": [
    "ftp.quit()"
   ]
  },
  {
   "cell_type": "code",
   "execution_count": 6,
   "id": "eaa99e61",
   "metadata": {},
   "outputs": [],
   "source": [
    "import xml.etree.ElementTree as ET\n",
    "tree = ET.parse('OptaF24.xml')"
   ]
  },
  {
   "cell_type": "code",
   "execution_count": 9,
   "id": "49a0599c",
   "metadata": {},
   "outputs": [
    {
     "data": {
      "text/plain": [
       "'Games'"
      ]
     },
     "execution_count": 9,
     "metadata": {},
     "output_type": "execute_result"
    }
   ],
   "source": [
    "gameFile = tree.getroot() \n",
    "gameFile.tag"
   ]
  },
  {
   "cell_type": "code",
   "execution_count": 11,
   "id": "669490ae",
   "metadata": {},
   "outputs": [
    {
     "data": {
      "text/plain": [
       "{'timestamp': '2012-09-11T10:20:32'}"
      ]
     },
     "execution_count": 11,
     "metadata": {},
     "output_type": "execute_result"
    }
   ],
   "source": [
    "gameFile.attrib"
   ]
  },
  {
   "cell_type": "code",
   "execution_count": 18,
   "id": "4b09544e",
   "metadata": {},
   "outputs": [
    {
     "name": "stdout",
     "output_type": "stream",
     "text": [
      "Número de partidos: 1\n"
     ]
    }
   ],
   "source": [
    "game = tree.findall('Game')\n",
    "print('Número de partidos:', len(game))"
   ]
  },
  {
   "cell_type": "code",
   "execution_count": 19,
   "id": "7a344e7e",
   "metadata": {},
   "outputs": [
    {
     "name": "stdout",
     "output_type": "stream",
     "text": [
      "Número de eventos: 1673\n"
     ]
    }
   ],
   "source": [
    "eventos = game[0].findall('Event')\n",
    "print('Número de eventos:',len(eventos))"
   ]
  },
  {
   "cell_type": "code",
   "execution_count": 43,
   "id": "57276466",
   "metadata": {},
   "outputs": [],
   "source": [
    "x_origin = []\n",
    "y_origin = []\n",
    "x_destination = []\n",
    "y_destination = []\n",
    "outcome = []\n",
    "minute = []\n",
    "second = []\n",
    "half = []\n",
    "team = []"
   ]
  },
  {
   "cell_type": "code",
   "execution_count": 44,
   "id": "b2883a30",
   "metadata": {},
   "outputs": [],
   "source": [
    "for evento in eventos:\n",
    "    if evento.attrib['type_id']=='1':\n",
    "        half.append(evento.attrib['period_id'])\n",
    "        minute.append(evento.attrib['min'])\n",
    "        second.append(evento.attrib['sec'])\n",
    "        team.append(evento.attrib['team_id'])\n",
    "        x_origin.append(evento.attrib['x'])\n",
    "        y_origin.append(evento.attrib['y'])\n",
    "        outcome.append(evento.attrib['outcome'])\n",
    "        \n",
    "        qualifiers = evento.findall('Q')\n",
    "        \n",
    "        for q in qualifiers:\n",
    "            if q.attrib['qualifier_id']=='140':\n",
    "                x_destination.append(q.attrib['value'])\n",
    "            if q.attrib['qualifier_id']=='141':\n",
    "                y_destination.append(q.attrib['value'])\n",
    "        "
   ]
  },
  {
   "cell_type": "code",
   "execution_count": 47,
   "id": "53cd2df9",
   "metadata": {},
   "outputs": [
    {
     "data": {
      "text/plain": [
       "(946, 946, 946, 946, 946, 946, 946, 946, 946)"
      ]
     },
     "execution_count": 47,
     "metadata": {},
     "output_type": "execute_result"
    }
   ],
   "source": [
    "len(x_origin),\\\n",
    "len(y_origin),\\\n",
    "len(x_destination),\\\n",
    "len(y_destination),\\\n",
    "len(outcome),\\\n",
    "len(minute),\\\n",
    "len(second),\\\n",
    "len(half),\\\n",
    "len(team)"
   ]
  },
  {
   "cell_type": "code",
   "execution_count": 51,
   "id": "2cbeb2b1",
   "metadata": {},
   "outputs": [
    {
     "data": {
      "text/plain": [
       "{'id': '360481',\n",
       " 'away_team_id': '43',\n",
       " 'away_team_name': 'Manchester City',\n",
       " 'competition_id': '8',\n",
       " 'competition_name': 'English Barclays Premier League',\n",
       " 'game_date': '2011-08-21T16:00:00',\n",
       " 'home_team_id': '30',\n",
       " 'home_team_name': 'Bolton Wanderers',\n",
       " 'matchday': '2',\n",
       " 'period_1_start': '2011-08-21T16:00:38',\n",
       " 'period_2_start': '2011-08-21T17:03:47',\n",
       " 'season_id': '2011',\n",
       " 'season_name': 'Season 2011/2012'}"
      ]
     },
     "execution_count": 51,
     "metadata": {},
     "output_type": "execute_result"
    }
   ],
   "source": [
    "game[0].attrib"
   ]
  },
  {
   "cell_type": "code",
   "execution_count": 52,
   "id": "ba9ddb42",
   "metadata": {},
   "outputs": [
    {
     "data": {
      "text/plain": [
       "{'30': 'Bolton Wanderers', '43': 'Manchester City'}"
      ]
     },
     "execution_count": 52,
     "metadata": {},
     "output_type": "execute_result"
    }
   ],
   "source": [
    "equipos={game[0].attrib['home_team_id']: game[0].attrib['home_team_name'],\n",
    "        game[0].attrib['away_team_id']: game[0].attrib['away_team_name']\n",
    "        }\n",
    "equipos"
   ]
  },
  {
   "cell_type": "code",
   "execution_count": 55,
   "id": "8056793f",
   "metadata": {},
   "outputs": [
    {
     "data": {
      "text/html": [
       "<div>\n",
       "<style scoped>\n",
       "    .dataframe tbody tr th:only-of-type {\n",
       "        vertical-align: middle;\n",
       "    }\n",
       "\n",
       "    .dataframe tbody tr th {\n",
       "        vertical-align: top;\n",
       "    }\n",
       "\n",
       "    .dataframe thead th {\n",
       "        text-align: right;\n",
       "    }\n",
       "</style>\n",
       "<table border=\"1\" class=\"dataframe\">\n",
       "  <thead>\n",
       "    <tr style=\"text-align: right;\">\n",
       "      <th></th>\n",
       "      <th>team</th>\n",
       "      <th>half</th>\n",
       "      <th>minute</th>\n",
       "      <th>second</th>\n",
       "      <th>x_origin</th>\n",
       "      <th>y_origin</th>\n",
       "      <th>x_destination</th>\n",
       "      <th>y_destination</th>\n",
       "      <th>outcome</th>\n",
       "    </tr>\n",
       "  </thead>\n",
       "  <tbody>\n",
       "    <tr>\n",
       "      <th>0</th>\n",
       "      <td>Manchester City</td>\n",
       "      <td>1</td>\n",
       "      <td>0</td>\n",
       "      <td>1</td>\n",
       "      <td>50.1</td>\n",
       "      <td>50.0</td>\n",
       "      <td>52.4</td>\n",
       "      <td>49.1</td>\n",
       "      <td>1</td>\n",
       "    </tr>\n",
       "    <tr>\n",
       "      <th>1</th>\n",
       "      <td>Manchester City</td>\n",
       "      <td>1</td>\n",
       "      <td>0</td>\n",
       "      <td>2</td>\n",
       "      <td>48.2</td>\n",
       "      <td>49.1</td>\n",
       "      <td>29.0</td>\n",
       "      <td>76.5</td>\n",
       "      <td>1</td>\n",
       "    </tr>\n",
       "    <tr>\n",
       "      <th>2</th>\n",
       "      <td>Manchester City</td>\n",
       "      <td>1</td>\n",
       "      <td>0</td>\n",
       "      <td>19</td>\n",
       "      <td>27.8</td>\n",
       "      <td>100.0</td>\n",
       "      <td>49.3</td>\n",
       "      <td>93.4</td>\n",
       "      <td>0</td>\n",
       "    </tr>\n",
       "    <tr>\n",
       "      <th>3</th>\n",
       "      <td>Bolton Wanderers</td>\n",
       "      <td>1</td>\n",
       "      <td>0</td>\n",
       "      <td>23</td>\n",
       "      <td>50.9</td>\n",
       "      <td>20.0</td>\n",
       "      <td>63.6</td>\n",
       "      <td>30.1</td>\n",
       "      <td>1</td>\n",
       "    </tr>\n",
       "    <tr>\n",
       "      <th>4</th>\n",
       "      <td>Manchester City</td>\n",
       "      <td>1</td>\n",
       "      <td>0</td>\n",
       "      <td>30</td>\n",
       "      <td>29.3</td>\n",
       "      <td>73.0</td>\n",
       "      <td>30.2</td>\n",
       "      <td>55.6</td>\n",
       "      <td>1</td>\n",
       "    </tr>\n",
       "    <tr>\n",
       "      <th>...</th>\n",
       "      <td>...</td>\n",
       "      <td>...</td>\n",
       "      <td>...</td>\n",
       "      <td>...</td>\n",
       "      <td>...</td>\n",
       "      <td>...</td>\n",
       "      <td>...</td>\n",
       "      <td>...</td>\n",
       "      <td>...</td>\n",
       "    </tr>\n",
       "    <tr>\n",
       "      <th>941</th>\n",
       "      <td>Bolton Wanderers</td>\n",
       "      <td>2</td>\n",
       "      <td>93</td>\n",
       "      <td>42</td>\n",
       "      <td>16.3</td>\n",
       "      <td>82.5</td>\n",
       "      <td>71.7</td>\n",
       "      <td>70.7</td>\n",
       "      <td>0</td>\n",
       "    </tr>\n",
       "    <tr>\n",
       "      <th>942</th>\n",
       "      <td>Manchester City</td>\n",
       "      <td>2</td>\n",
       "      <td>93</td>\n",
       "      <td>45</td>\n",
       "      <td>28.6</td>\n",
       "      <td>27.6</td>\n",
       "      <td>34.2</td>\n",
       "      <td>9.5</td>\n",
       "      <td>1</td>\n",
       "    </tr>\n",
       "    <tr>\n",
       "      <th>943</th>\n",
       "      <td>Manchester City</td>\n",
       "      <td>2</td>\n",
       "      <td>93</td>\n",
       "      <td>46</td>\n",
       "      <td>34.4</td>\n",
       "      <td>9.1</td>\n",
       "      <td>63.0</td>\n",
       "      <td>20.7</td>\n",
       "      <td>1</td>\n",
       "    </tr>\n",
       "    <tr>\n",
       "      <th>944</th>\n",
       "      <td>Manchester City</td>\n",
       "      <td>2</td>\n",
       "      <td>93</td>\n",
       "      <td>47</td>\n",
       "      <td>62.4</td>\n",
       "      <td>20.7</td>\n",
       "      <td>61.8</td>\n",
       "      <td>12.5</td>\n",
       "      <td>1</td>\n",
       "    </tr>\n",
       "    <tr>\n",
       "      <th>945</th>\n",
       "      <td>Bolton Wanderers</td>\n",
       "      <td>2</td>\n",
       "      <td>94</td>\n",
       "      <td>4</td>\n",
       "      <td>5.0</td>\n",
       "      <td>63.0</td>\n",
       "      <td>68.1</td>\n",
       "      <td>57.5</td>\n",
       "      <td>1</td>\n",
       "    </tr>\n",
       "  </tbody>\n",
       "</table>\n",
       "<p>946 rows × 9 columns</p>\n",
       "</div>"
      ],
      "text/plain": [
       "                 team half minute second x_origin y_origin x_destination  \\\n",
       "0     Manchester City    1      0      1     50.1     50.0          52.4   \n",
       "1     Manchester City    1      0      2     48.2     49.1          29.0   \n",
       "2     Manchester City    1      0     19     27.8    100.0          49.3   \n",
       "3    Bolton Wanderers    1      0     23     50.9     20.0          63.6   \n",
       "4     Manchester City    1      0     30     29.3     73.0          30.2   \n",
       "..                ...  ...    ...    ...      ...      ...           ...   \n",
       "941  Bolton Wanderers    2     93     42     16.3     82.5          71.7   \n",
       "942   Manchester City    2     93     45     28.6     27.6          34.2   \n",
       "943   Manchester City    2     93     46     34.4      9.1          63.0   \n",
       "944   Manchester City    2     93     47     62.4     20.7          61.8   \n",
       "945  Bolton Wanderers    2     94      4      5.0     63.0          68.1   \n",
       "\n",
       "    y_destination outcome  \n",
       "0            49.1       1  \n",
       "1            76.5       1  \n",
       "2            93.4       0  \n",
       "3            30.1       1  \n",
       "4            55.6       1  \n",
       "..            ...     ...  \n",
       "941          70.7       0  \n",
       "942           9.5       1  \n",
       "943          20.7       1  \n",
       "944          12.5       1  \n",
       "945          57.5       1  \n",
       "\n",
       "[946 rows x 9 columns]"
      ]
     },
     "execution_count": 55,
     "metadata": {},
     "output_type": "execute_result"
    }
   ],
   "source": [
    "import pandas as pd\n",
    "\n",
    "pases = pd.DataFrame({'team':team,\n",
    "                     'half':half,\n",
    "                     'minute':minute,\n",
    "                     'second':second,\n",
    "                     'x_origin':x_origin,\n",
    "                     'y_origin':y_origin,\n",
    "                     'x_destination':x_destination,\n",
    "                      'y_destination':y_destination,\n",
    "                      'outcome':outcome\n",
    "                     })\n",
    "\n",
    "pases.team.replace(equipos,inplace=True)\n",
    "pases"
   ]
  },
  {
   "cell_type": "code",
   "execution_count": 59,
   "id": "d886627a",
   "metadata": {},
   "outputs": [],
   "source": [
    "pases.outcome = pases.outcome.astype('int')"
   ]
  },
  {
   "cell_type": "code",
   "execution_count": 60,
   "id": "9d3e3799",
   "metadata": {},
   "outputs": [],
   "source": [
    "pases.outcome = pd.to_numeric(pases.outcome)"
   ]
  },
  {
   "cell_type": "code",
   "execution_count": 61,
   "id": "fdacb051",
   "metadata": {},
   "outputs": [
    {
     "data": {
      "text/html": [
       "<div>\n",
       "<style scoped>\n",
       "    .dataframe tbody tr th:only-of-type {\n",
       "        vertical-align: middle;\n",
       "    }\n",
       "\n",
       "    .dataframe tbody tr th {\n",
       "        vertical-align: top;\n",
       "    }\n",
       "\n",
       "    .dataframe thead th {\n",
       "        text-align: right;\n",
       "    }\n",
       "</style>\n",
       "<table border=\"1\" class=\"dataframe\">\n",
       "  <thead>\n",
       "    <tr style=\"text-align: right;\">\n",
       "      <th></th>\n",
       "      <th>team</th>\n",
       "      <th>outcome</th>\n",
       "    </tr>\n",
       "  </thead>\n",
       "  <tbody>\n",
       "    <tr>\n",
       "      <th>0</th>\n",
       "      <td>Bolton Wanderers</td>\n",
       "      <td>279</td>\n",
       "    </tr>\n",
       "    <tr>\n",
       "      <th>1</th>\n",
       "      <td>Manchester City</td>\n",
       "      <td>427</td>\n",
       "    </tr>\n",
       "  </tbody>\n",
       "</table>\n",
       "</div>"
      ],
      "text/plain": [
       "               team  outcome\n",
       "0  Bolton Wanderers      279\n",
       "1   Manchester City      427"
      ]
     },
     "execution_count": 61,
     "metadata": {},
     "output_type": "execute_result"
    }
   ],
   "source": [
    "# ¿Qué equipo ha dado más pases buenos?\n",
    "pases[['team','outcome']].groupby('team',as_index=False).sum()"
   ]
  },
  {
   "cell_type": "code",
   "execution_count": 67,
   "id": "dce0b1cb",
   "metadata": {},
   "outputs": [
    {
     "data": {
      "text/plain": [
       "Bolton Wanderers    35\n",
       "Manchester City     32\n",
       "Name: team, dtype: int64"
      ]
     },
     "execution_count": 67,
     "metadata": {},
     "output_type": "execute_result"
    }
   ],
   "source": [
    "# Pases de más de 20 metros en el eje x\n",
    "pases['x_distance'] = pases.x_destination.astype('float') - pases.x_origin.astype('float')\n",
    "pases.loc[(pases.x_distance>20) & (pases.outcome==1)].team.value_counts()"
   ]
  }
 ],
 "metadata": {
  "kernelspec": {
   "display_name": "Python 3 (ipykernel)",
   "language": "python",
   "name": "python3"
  },
  "language_info": {
   "codemirror_mode": {
    "name": "ipython",
    "version": 3
   },
   "file_extension": ".py",
   "mimetype": "text/x-python",
   "name": "python",
   "nbconvert_exporter": "python",
   "pygments_lexer": "ipython3",
   "version": "3.9.13"
  }
 },
 "nbformat": 4,
 "nbformat_minor": 5
}
