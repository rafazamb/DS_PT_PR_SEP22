{
 "cells": [
  {
   "cell_type": "markdown",
   "metadata": {
    "id": "fBwh3Bypimha"
   },
   "source": [
    "# Interactive Visualization Lab - Superstore Dataset\n",
    "\n",
    "Complete the following set of exercises to solidify your knowledge of interactive visualization using"
   ]
  },
  {
   "cell_type": "code",
   "execution_count": null,
   "metadata": {
    "id": "b-CJJ-68imhb",
    "outputId": "8ea87b64-66a4-4dd8-d905-2e4e1f387c0b"
   },
   "outputs": [],
   "source": [
    "import pandas as pd\n",
    "df = pd.read_excel('data/Sample - Superstore.xlsx')\n",
    "df.head()"
   ]
  },
  {
   "cell_type": "markdown",
   "metadata": {
    "id": "0vbpV0ARimho"
   },
   "source": [
    "## 1. Create an interactive bar chart showing total sales by State for2014."
   ]
  },
  {
   "cell_type": "code",
   "execution_count": null,
   "metadata": {},
   "outputs": [],
   "source": []
  },
  {
   "cell_type": "markdown",
   "metadata": {
    "id": "ORjGPnb_imh0"
   },
   "source": [
    "## 2. Create an interactive line chart showing Sales and Profit in 2014."
   ]
  },
  {
   "cell_type": "code",
   "execution_count": null,
   "metadata": {},
   "outputs": [],
   "source": []
  },
  {
   "cell_type": "markdown",
   "metadata": {
    "id": "XeZgfB8Dimh3"
   },
   "source": [
    "## 3. Create a set of 3 interactive histograms showing the distributions of quantity per order for the following states: California, New York and Texas."
   ]
  },
  {
   "cell_type": "code",
   "execution_count": null,
   "metadata": {},
   "outputs": [],
   "source": []
  },
  {
   "cell_type": "markdown",
   "metadata": {
    "id": "KRcREZg5imh7"
   },
   "source": [
    "## 4. Create an interactive stacked bar chart showing the revenue by state (bars) for each of the products categories for California, New York and Texas."
   ]
  },
  {
   "cell_type": "code",
   "execution_count": null,
   "metadata": {},
   "outputs": [],
   "source": []
  },
  {
   "cell_type": "markdown",
   "metadata": {
    "id": "a1XDvjVAimiG"
   },
   "source": [
    "## 5. Create an interactive line chart showing sale by day for California."
   ]
  },
  {
   "cell_type": "code",
   "execution_count": null,
   "metadata": {},
   "outputs": [],
   "source": []
  }
 ],
 "metadata": {
  "colab": {
   "name": "widgets_plotly_superstore_enunciado.ipynb",
   "provenance": []
  },
  "kernelspec": {
   "display_name": "Python 3 (ipykernel)",
   "language": "python",
   "name": "python3"
  },
  "language_info": {
   "codemirror_mode": {
    "name": "ipython",
    "version": 3
   },
   "file_extension": ".py",
   "mimetype": "text/x-python",
   "name": "python",
   "nbconvert_exporter": "python",
   "pygments_lexer": "ipython3",
   "version": "3.9.13"
  }
 },
 "nbformat": 4,
 "nbformat_minor": 1
}
